{
 "cells": [
  {
   "cell_type": "code",
   "execution_count": 16,
   "id": "8b648a80",
   "metadata": {},
   "outputs": [],
   "source": [
    "import os\n",
    "import cv2\n",
    "import math\n",
    "import copy\n",
    "import time\n",
    "import random\n",
    "from matplotlib import pyplot as plt\n",
    "\n",
    "# For data manipulation\n",
    "import numpy as np\n",
    "import pandas as pd\n",
    "\n",
    "# Pytorch Imports\n",
    "import torch\n",
    "import torch.nn as nn\n",
    "import torch.optim as optim\n",
    "import torch.nn.functional as F\n",
    "from torch.utils.data import Dataset, DataLoader\n",
    "import torchvision\n",
    "from torchvision.transforms import v2\n",
    "from torchvision import datasets\n",
    "\n",
    "from PIL import Image\n",
    "from torchvision.io import read_image\n",
    "from torchvision.transforms import v2"
   ]
  },
  {
   "cell_type": "code",
   "execution_count": 17,
   "id": "829e3e57",
   "metadata": {},
   "outputs": [],
   "source": [
    "covid = 'Data/train/COVID19'\n",
    "pneumonia = \"Data/train/PNEUMONIA\"\n",
    "normal = \"Data/train/NORMAL\"\n",
    "\n",
    "# Get the list of files in the folder\n",
    "covid_file_names = os.listdir(covid)\n",
    "normal_file_names = os.listdir(normal)\n",
    "pneumonia_file_names = os.listdir(pneumonia)\n",
    "\n",
    "# Create a DataFrame with the file names\n",
    "covid_df = pd.DataFrame({'File_Name': covid_file_names})\n",
    "pneumonia_df = pd.DataFrame({'File_Name': pneumonia_file_names})\n",
    "normal_df = pd.DataFrame({'File_Name': normal_file_names})"
   ]
  },
  {
   "cell_type": "code",
   "execution_count": 18,
   "id": "76c31185",
   "metadata": {},
   "outputs": [],
   "source": [
    "covid_df[\"label\"] = 1"
   ]
  },
  {
   "cell_type": "code",
   "execution_count": 19,
   "id": "fa3a5b88",
   "metadata": {},
   "outputs": [],
   "source": [
    "normal_df[\"label\"] = 0\n",
    "pneumonia_df[\"label\"] = 2"
   ]
  },
  {
   "cell_type": "code",
   "execution_count": 20,
   "id": "84809866",
   "metadata": {},
   "outputs": [],
   "source": [
    "train_df = pd.concat([normal_df,covid_df,pneumonia_df], axis = 0)"
   ]
  },
  {
   "cell_type": "code",
   "execution_count": 21,
   "id": "2b0dba77",
   "metadata": {},
   "outputs": [
    {
     "data": {
      "text/plain": [
       "1266"
      ]
     },
     "execution_count": 21,
     "metadata": {},
     "output_type": "execute_result"
    }
   ],
   "source": [
    "(train_df[\"label\"] == 0).sum()"
   ]
  },
  {
   "cell_type": "code",
   "execution_count": 22,
   "id": "4027096a",
   "metadata": {},
   "outputs": [
    {
     "data": {
      "text/plain": [
       "'class ScansDS(Dataset):\\n    def __init__(self, annotations, root_dir, transform = None):\\n        self.annotations = annotations\\n        self.root_dir = root_dir\\n        self.transform = transform\\n    \\n    def __len__(self):\\n        return len(self.annotations)\\n    \\n    def __getitem__(self, index):\\n        img_path = os.path.join(self.root_dir, self.annotations.iloc[index,0])\\n        image = torch.tensor(cv2.imread(img_path))\\n        y_label = torch.tensor(int(self.annotations.iloc[index,1]))\\n\\n        if self.transform:\\n            image = self.transform(image)\\n\\n        print(\"lengths:\",image.shape,y_label.shape)\\n        print(\"image:\",image, \"label:\",y_label)\\n        \\n        return (image, y_label)'"
      ]
     },
     "execution_count": 22,
     "metadata": {},
     "output_type": "execute_result"
    }
   ],
   "source": [
    "'''class ScansDS(Dataset):\n",
    "    def __init__(self, annotations, root_dir, transform = None):\n",
    "        self.annotations = annotations\n",
    "        self.root_dir = root_dir\n",
    "        self.transform = transform\n",
    "    \n",
    "    def __len__(self):\n",
    "        return len(self.annotations)\n",
    "    \n",
    "    def __getitem__(self, index):\n",
    "        img_path = os.path.join(self.root_dir, self.annotations.iloc[index,0])\n",
    "        image = torch.tensor(cv2.imread(img_path))\n",
    "        y_label = torch.tensor(int(self.annotations.iloc[index,1]))\n",
    "\n",
    "        if self.transform:\n",
    "            image = self.transform(image)\n",
    "\n",
    "        print(\"lengths:\",image.shape,y_label.shape)\n",
    "        print(\"image:\",image, \"label:\",y_label)\n",
    "        \n",
    "        return (image, y_label)'''\n",
    "    \n",
    "\n"
   ]
  },
  {
   "cell_type": "code",
   "execution_count": 23,
   "id": "4d12a087",
   "metadata": {},
   "outputs": [
    {
     "name": "stderr",
     "output_type": "stream",
     "text": [
      "c:\\Users\\lexsu\\anaconda3\\Lib\\site-packages\\torchvision\\transforms\\v2\\_deprecated.py:43: UserWarning: The transform `ToTensor()` is deprecated and will be removed in a future release. Instead, please use `v2.Compose([v2.ToImage(), v2.ToDtype(torch.float32, scale=True)])`.\n",
      "  warnings.warn(\n"
     ]
    }
   ],
   "source": [
    "target_size = (256, 256)\n",
    "\n",
    "scan_transform = v2.Compose([\n",
    "    v2.Resize(target_size),\n",
    "    v2.RandomHorizontalFlip(),\n",
    "    v2.RandomVerticalFlip(),\n",
    "    v2.RandomRotation(degrees=15),\n",
    "    v2.ToTensor(),\n",
    "    v2.Normalize(mean=[0.485, 0.456, 0.406], std=[0.229, 0.224, 0.225])\n",
    "])"
   ]
  },
  {
   "cell_type": "code",
   "execution_count": 24,
   "id": "663cb282",
   "metadata": {},
   "outputs": [],
   "source": [
    "transforms = v2.Compose([\n",
    "    v2.Grayscale(num_output_channels=1),\n",
    "    v2.Resize((244,244)),\n",
    "    v2.ToTensor(),\n",
    "    v2.Normalize(mean=[0.49], std=[0.225]),   #pokud se pouziva grayscale musi byt jen 1 dimenze std a mean\n",
    "])"
   ]
  },
  {
   "cell_type": "code",
   "execution_count": 25,
   "id": "6ab3e894",
   "metadata": {},
   "outputs": [],
   "source": [
    "#train_dataset = ScansDS(annotations=train_df, root_dir=\"Data/mix_train\", transform=transforms)\n",
    "\n",
    "train_dataset = datasets.ImageFolder(root=\"Data/train\", # target folder of images\n",
    "                                  transform=transforms, # transforms to perform on data (images)\n",
    "                                  target_transform=None) # transforms to perform on labels (if necessary)"
   ]
  },
  {
   "cell_type": "code",
   "execution_count": 26,
   "id": "d998fca5",
   "metadata": {},
   "outputs": [
    {
     "data": {
      "text/html": [
       "<div>\n",
       "<style scoped>\n",
       "    .dataframe tbody tr th:only-of-type {\n",
       "        vertical-align: middle;\n",
       "    }\n",
       "\n",
       "    .dataframe tbody tr th {\n",
       "        vertical-align: top;\n",
       "    }\n",
       "\n",
       "    .dataframe thead th {\n",
       "        text-align: right;\n",
       "    }\n",
       "</style>\n",
       "<table border=\"1\" class=\"dataframe\">\n",
       "  <thead>\n",
       "    <tr style=\"text-align: right;\">\n",
       "      <th></th>\n",
       "      <th>File_Name</th>\n",
       "      <th>label</th>\n",
       "    </tr>\n",
       "  </thead>\n",
       "  <tbody>\n",
       "    <tr>\n",
       "      <th>218</th>\n",
       "      <td>NORMAL(1194).jpg</td>\n",
       "      <td>0</td>\n",
       "    </tr>\n",
       "    <tr>\n",
       "      <th>2275</th>\n",
       "      <td>PNEUMONIA(3045).jpg</td>\n",
       "      <td>2</td>\n",
       "    </tr>\n",
       "    <tr>\n",
       "      <th>1033</th>\n",
       "      <td>NORMAL(79).jpg</td>\n",
       "      <td>0</td>\n",
       "    </tr>\n",
       "    <tr>\n",
       "      <th>2479</th>\n",
       "      <td>PNEUMONIA(3229).jpg</td>\n",
       "      <td>2</td>\n",
       "    </tr>\n",
       "    <tr>\n",
       "      <th>1150</th>\n",
       "      <td>PNEUMONIA(2032).jpg</td>\n",
       "      <td>2</td>\n",
       "    </tr>\n",
       "    <tr>\n",
       "      <th>865</th>\n",
       "      <td>NORMAL(638).jpg</td>\n",
       "      <td>0</td>\n",
       "    </tr>\n",
       "    <tr>\n",
       "      <th>579</th>\n",
       "      <td>PNEUMONIA(1519).jpg</td>\n",
       "      <td>2</td>\n",
       "    </tr>\n",
       "    <tr>\n",
       "      <th>1684</th>\n",
       "      <td>PNEUMONIA(2513).jpg</td>\n",
       "      <td>2</td>\n",
       "    </tr>\n",
       "    <tr>\n",
       "      <th>356</th>\n",
       "      <td>PNEUMONIA(1318).jpg</td>\n",
       "      <td>2</td>\n",
       "    </tr>\n",
       "    <tr>\n",
       "      <th>2944</th>\n",
       "      <td>PNEUMONIA(572).jpg</td>\n",
       "      <td>2</td>\n",
       "    </tr>\n",
       "    <tr>\n",
       "      <th>1223</th>\n",
       "      <td>PNEUMONIA(2099).jpg</td>\n",
       "      <td>2</td>\n",
       "    </tr>\n",
       "    <tr>\n",
       "      <th>192</th>\n",
       "      <td>NORMAL(1170).jpg</td>\n",
       "      <td>0</td>\n",
       "    </tr>\n",
       "    <tr>\n",
       "      <th>419</th>\n",
       "      <td>PNEUMONIA(1375).jpg</td>\n",
       "      <td>2</td>\n",
       "    </tr>\n",
       "    <tr>\n",
       "      <th>2361</th>\n",
       "      <td>PNEUMONIA(3122).jpg</td>\n",
       "      <td>2</td>\n",
       "    </tr>\n",
       "    <tr>\n",
       "      <th>1766</th>\n",
       "      <td>PNEUMONIA(2588).jpg</td>\n",
       "      <td>2</td>\n",
       "    </tr>\n",
       "    <tr>\n",
       "      <th>3298</th>\n",
       "      <td>PNEUMONIA(891).jpg</td>\n",
       "      <td>2</td>\n",
       "    </tr>\n",
       "    <tr>\n",
       "      <th>1303</th>\n",
       "      <td>PNEUMONIA(2170).jpg</td>\n",
       "      <td>2</td>\n",
       "    </tr>\n",
       "    <tr>\n",
       "      <th>1685</th>\n",
       "      <td>PNEUMONIA(2514).jpg</td>\n",
       "      <td>2</td>\n",
       "    </tr>\n",
       "    <tr>\n",
       "      <th>2697</th>\n",
       "      <td>PNEUMONIA(35).jpg</td>\n",
       "      <td>2</td>\n",
       "    </tr>\n",
       "    <tr>\n",
       "      <th>1890</th>\n",
       "      <td>PNEUMONIA(27).jpg</td>\n",
       "      <td>2</td>\n",
       "    </tr>\n",
       "  </tbody>\n",
       "</table>\n",
       "</div>"
      ],
      "text/plain": [
       "                File_Name  label\n",
       "218      NORMAL(1194).jpg      0\n",
       "2275  PNEUMONIA(3045).jpg      2\n",
       "1033       NORMAL(79).jpg      0\n",
       "2479  PNEUMONIA(3229).jpg      2\n",
       "1150  PNEUMONIA(2032).jpg      2\n",
       "865       NORMAL(638).jpg      0\n",
       "579   PNEUMONIA(1519).jpg      2\n",
       "1684  PNEUMONIA(2513).jpg      2\n",
       "356   PNEUMONIA(1318).jpg      2\n",
       "2944   PNEUMONIA(572).jpg      2\n",
       "1223  PNEUMONIA(2099).jpg      2\n",
       "192      NORMAL(1170).jpg      0\n",
       "419   PNEUMONIA(1375).jpg      2\n",
       "2361  PNEUMONIA(3122).jpg      2\n",
       "1766  PNEUMONIA(2588).jpg      2\n",
       "3298   PNEUMONIA(891).jpg      2\n",
       "1303  PNEUMONIA(2170).jpg      2\n",
       "1685  PNEUMONIA(2514).jpg      2\n",
       "2697    PNEUMONIA(35).jpg      2\n",
       "1890    PNEUMONIA(27).jpg      2"
      ]
     },
     "execution_count": 26,
     "metadata": {},
     "output_type": "execute_result"
    }
   ],
   "source": [
    "train_df.sample(20)"
   ]
  },
  {
   "cell_type": "code",
   "execution_count": 27,
   "id": "745157e9",
   "metadata": {},
   "outputs": [
    {
     "data": {
      "text/plain": [
       "5144"
      ]
     },
     "execution_count": 27,
     "metadata": {},
     "output_type": "execute_result"
    }
   ],
   "source": [
    "len(train_dataset)"
   ]
  },
  {
   "cell_type": "code",
   "execution_count": 28,
   "id": "ae2831ad",
   "metadata": {},
   "outputs": [
    {
     "data": {
      "text/plain": [
       "Dataset ImageFolder\n",
       "    Number of datapoints: 5144\n",
       "    Root location: Data/train\n",
       "    StandardTransform\n",
       "Transform: Compose(\n",
       "                 Grayscale(num_output_channels=1)\n",
       "                 Resize(size=[244, 244], interpolation=InterpolationMode.BILINEAR, antialias=warn)\n",
       "                 ToTensor()\n",
       "                 Normalize(mean=[0.49], std=[0.225], inplace=False)\n",
       "           )"
      ]
     },
     "execution_count": 28,
     "metadata": {},
     "output_type": "execute_result"
    }
   ],
   "source": [
    "train_dataset"
   ]
  },
  {
   "cell_type": "code",
   "execution_count": 29,
   "id": "f095199d",
   "metadata": {},
   "outputs": [],
   "source": [
    "train_data = DataLoader(dataset=train_dataset, batch_size=64, shuffle=True, num_workers=0,)"
   ]
  },
  {
   "cell_type": "code",
   "execution_count": 30,
   "id": "05048002",
   "metadata": {},
   "outputs": [
    {
     "data": {
      "text/plain": [
       "'for i, (X_train, y_train) in enumerate(train_data):\\n    print(i)\\n    if i >50:\\n        break'"
      ]
     },
     "execution_count": 30,
     "metadata": {},
     "output_type": "execute_result"
    }
   ],
   "source": [
    "'''for i, (X_train, y_train) in enumerate(train_data):\n",
    "    print(i)\n",
    "    if i >50:\n",
    "        break'''"
   ]
  },
  {
   "cell_type": "code",
   "execution_count": 31,
   "id": "5e8a3019",
   "metadata": {},
   "outputs": [],
   "source": [
    "conv1 = nn.Conv2d(1,64,stride=1,kernel_size=3)\n",
    "conv2 = nn.Conv2d(64,64,stride=1,kernel_size=3)\n",
    "conv3 = nn.Conv2d(64,128,stride=1,kernel_size=3)\n",
    "conv4 = nn.Conv2d(128,256,stride=1,kernel_size=3)\n",
    "conv5 = nn.Conv2d(256,512, stride=1,kernel_size=3)\n",
    "\n",
    "conv6 = nn.Conv2d(512,512, stride=1,kernel_size=3)#tuto layer nevim jestli pouzit\n",
    "\n",
    "dropout = nn.Dropout(0.22)\n",
    "\n",
    "bn1 = nn.BatchNorm2d(64)\n",
    "bn2 = nn.BatchNorm2d(64)\n",
    "bn3 = nn.BatchNorm2d(128)\n",
    "bn4 = nn.BatchNorm2d(256)\n",
    "bn5 = nn.BatchNorm2d(512)\n",
    "bn6 = nn.BatchNorm2d(512)"
   ]
  },
  {
   "cell_type": "code",
   "execution_count": 32,
   "id": "42d1ab52",
   "metadata": {},
   "outputs": [],
   "source": [
    "def forward(x):       #toto se da udelat chytreji kdyz vytvorite funkci ktera vezme x a aplikuje ty 3 veci - conv,relu a dropout\n",
    "        x = F.relu(conv1(x))\n",
    "        x = bn1(x)\n",
    "        x = dropout(x)\n",
    "        x = F.max_pool2d(x,2,2)\n",
    "\n",
    "        x = F.relu(conv2(x))\n",
    "        x = bn2(x)\n",
    "        x = dropout(x)\n",
    "        x = F.max_pool2d(x,2,2)\n",
    "\n",
    "        x = F.relu(conv3(x))\n",
    "        x = bn3(x)\n",
    "        x = dropout(x)\n",
    "        x = F.max_pool2d(x,2,2)\n",
    "\n",
    "        x = F.relu(conv4(x))\n",
    "        x = bn4(x)\n",
    "        x = dropout(x)\n",
    "        x = F.max_pool2d(x,2,2)\n",
    "\n",
    "\n",
    "        x = F.relu(conv5(x))\n",
    "        x = bn5(x)\n",
    "        x = dropout(x)\n",
    "        x = F.max_pool2d(x,2,2)\n",
    "\n",
    "        return x"
   ]
  },
  {
   "cell_type": "code",
   "execution_count": null,
   "id": "8b0a4b0b",
   "metadata": {},
   "outputs": [],
   "source": []
  },
  {
   "cell_type": "code",
   "execution_count": 33,
   "id": "e37c30c9",
   "metadata": {},
   "outputs": [
    {
     "data": {
      "text/plain": [
       "'\\n        x = F.relu(self.conv5(x))\\n        x = self.bn6(x)\\n        x = self.dropout(x)\\n        x = F.max_pool2d(x,2,2)\\n'"
      ]
     },
     "execution_count": 33,
     "metadata": {},
     "output_type": "execute_result"
    }
   ],
   "source": [
    "class ScanModel(nn.Module):\n",
    "    def __init__(self,):\n",
    "        super().__init__()\n",
    "        self.conv1 = nn.Conv2d(1,64,stride=1,kernel_size=3, bias=False)\n",
    "        self.conv2 = nn.Conv2d(64,64,stride=1,kernel_size=3, bias=False)\n",
    "        self.conv3 = nn.Conv2d(64,128,stride=1,kernel_size=3, bias=False)\n",
    "        self.conv4 = nn.Conv2d(128,256,stride=1,kernel_size=3, bias=False)\n",
    "        self.conv5 = nn.Conv2d(256,512, stride=1,kernel_size=3, bias=False)\n",
    "\n",
    "        self.conv6 = nn.Conv2d(512,512, stride=1,kernel_size=3)#tuto layer nevim jestli pouzit\n",
    "\n",
    "        self.dropout = nn.Dropout(0.22)\n",
    "       \n",
    "        self.bn1 = nn.BatchNorm2d(64)\n",
    "        self.bn2 = nn.BatchNorm2d(64)\n",
    "        self.bn3 = nn.BatchNorm2d(128)\n",
    "        self.bn4 = nn.BatchNorm2d(256)\n",
    "        self.bn5 = nn.BatchNorm2d(512)\n",
    "        self.bn6 = nn.BatchNorm2d(512)\n",
    "         \n",
    "        self.fc1 = nn.Linear(512*5*5, 128)\n",
    "        self.fc2 = nn.Linear(128, 256)\n",
    "        self.fc3 = nn.Linear(256,3)\n",
    "\n",
    "    def forward(self, x):       #toto se da udelat chytreji kdyz vytvorite funkci ktera vezme x a aplikuje ty 3 veci - conv,relu a dropout\n",
    "        x = F.relu(self.conv1(x))\n",
    "        x = self.bn1(x)\n",
    "        x = self.dropout(x)\n",
    "        x = F.max_pool2d(x,2,2)\n",
    "\n",
    "        x = F.relu(self.conv2(x))\n",
    "        x = self.bn2(x)\n",
    "        x = self.dropout(x)\n",
    "        x = F.max_pool2d(x,2,2)\n",
    "\n",
    "        x = F.relu(self.conv3(x))\n",
    "        x = self.bn3(x)\n",
    "        x = self.dropout(x)\n",
    "        x = F.max_pool2d(x,2,2)\n",
    "\n",
    "        x = F.relu(self.conv4(x))\n",
    "        x = self.bn4(x)\n",
    "        x = self.dropout(x)\n",
    "        x = F.max_pool2d(x,2,2)\n",
    "\n",
    "\n",
    "        x = F.relu(self.conv5(x))\n",
    "        x = self.bn5(x)\n",
    "        x = self.dropout(x)\n",
    "        x = F.max_pool2d(x,2,2)\n",
    "        \n",
    "        x = x.view(-1,512*5*5)\n",
    "        \n",
    "        x = F.relu(self.fc1(x))\n",
    "        x=self.dropout(x)\n",
    "        x = F.relu(self.fc2(x))\n",
    "        x= self.dropout(x)\n",
    "        x = F.log_softmax(self.fc3(x), dim=1)\n",
    "                   \n",
    "        return x\n",
    "'''\n",
    "        x = F.relu(self.conv5(x))\n",
    "        x = self.bn6(x)\n",
    "        x = self.dropout(x)\n",
    "        x = F.max_pool2d(x,2,2)\n",
    "'''\n",
    "\n",
    "        #zjistit proc kazdy pouziva nn.Identity()\n"
   ]
  },
  {
   "cell_type": "code",
   "execution_count": 34,
   "id": "8e1249d1",
   "metadata": {},
   "outputs": [
    {
     "data": {
      "text/plain": [
       "'train_dataset.data.to(torch.device(\"cuda:0\"))\\ntrain_dataset.target.to(torch.device(\"cuda:0\"))'"
      ]
     },
     "execution_count": 34,
     "metadata": {},
     "output_type": "execute_result"
    }
   ],
   "source": [
    "'''train_dataset.data.to(torch.device(\"cuda:0\"))\n",
    "train_dataset.target.to(torch.device(\"cuda:0\"))'''"
   ]
  },
  {
   "cell_type": "code",
   "execution_count": 35,
   "id": "3bf7b36c",
   "metadata": {},
   "outputs": [
    {
     "name": "stdout",
     "output_type": "stream",
     "text": [
      "0\n",
      "1\n",
      "NVIDIA GeForce RTX 3060 Laptop GPU\n"
     ]
    }
   ],
   "source": [
    "torch.manual_seed(41)\n",
    "torch.cuda.manual_seed(41)\n",
    "\n",
    "model = ScanModel()\n",
    "model = model.cuda()\n",
    "\n",
    "print(torch.cuda.current_device())\n",
    "print(torch.cuda.device_count())\n",
    "print(torch.cuda.get_device_name(0))\n",
    "\n",
    "device = torch.device(\"cuda\" if torch.cuda.is_available() else \"cpu\")"
   ]
  },
  {
   "cell_type": "code",
   "execution_count": 36,
   "id": "8824d415",
   "metadata": {},
   "outputs": [],
   "source": [
    "optimizer = torch.optim.Adam(lr=0.001, params= model.parameters())\n",
    "criterion = nn.CrossEntropyLoss()"
   ]
  },
  {
   "cell_type": "code",
   "execution_count": 37,
   "id": "a05f4db7",
   "metadata": {},
   "outputs": [],
   "source": [
    "EPOCHS = 5"
   ]
  },
  {
   "cell_type": "code",
   "execution_count": 38,
   "id": "0fe5dc75",
   "metadata": {},
   "outputs": [
    {
     "name": "stdout",
     "output_type": "stream",
     "text": [
      "True\n",
      "True\n",
      "True\n",
      "True\n",
      "True\n",
      "True\n",
      "True\n",
      "True\n",
      "True\n",
      "True\n",
      "True\n",
      "True\n",
      "True\n",
      "True\n",
      "True\n",
      "True\n",
      "True\n",
      "True\n",
      "True\n",
      "True\n",
      "True\n",
      "True\n",
      "True\n",
      "True\n",
      "True\n"
     ]
    }
   ],
   "source": [
    "for i in model.parameters():\n",
    "    print(i.is_cuda)"
   ]
  },
  {
   "cell_type": "code",
   "execution_count": 39,
   "id": "37860325",
   "metadata": {},
   "outputs": [
    {
     "name": "stdout",
     "output_type": "stream",
     "text": [
      "Epoch: 1   Batch: 1   Loss: 1.1284831762313843\n",
      "Epoch: 1   Batch: 11   Loss: 0.7450125813484192\n",
      "Epoch: 1   Batch: 21   Loss: 0.5168638825416565\n",
      "Epoch: 1   Batch: 31   Loss: 0.3619902431964874\n",
      "Epoch: 1   Batch: 41   Loss: 0.17033395171165466\n",
      "Epoch: 1   Batch: 51   Loss: 0.34952273964881897\n",
      "Epoch: 1   Batch: 61   Loss: 0.22069288790225983\n",
      "Epoch: 1   Batch: 71   Loss: 0.19654451310634613\n",
      "Epoch: 1   Batch: 81   Loss: 0.45912399888038635\n",
      "Epoch: 2   Batch: 1   Loss: 0.09971309453248978\n",
      "Epoch: 2   Batch: 11   Loss: 0.18113067746162415\n",
      "Epoch: 2   Batch: 21   Loss: 0.2290119230747223\n",
      "Epoch: 2   Batch: 31   Loss: 0.2792574465274811\n",
      "Epoch: 2   Batch: 41   Loss: 0.39037442207336426\n",
      "Epoch: 2   Batch: 51   Loss: 0.2702934145927429\n",
      "Epoch: 2   Batch: 61   Loss: 0.28164830803871155\n",
      "Epoch: 2   Batch: 71   Loss: 0.1285938173532486\n",
      "Epoch: 2   Batch: 81   Loss: 0.03459605947136879\n",
      "Epoch: 3   Batch: 1   Loss: 0.45801469683647156\n",
      "Epoch: 3   Batch: 11   Loss: 0.17119692265987396\n",
      "Epoch: 3   Batch: 21   Loss: 0.1903691440820694\n",
      "Epoch: 3   Batch: 31   Loss: 0.1372150331735611\n",
      "Epoch: 3   Batch: 41   Loss: 0.12283502519130707\n",
      "Epoch: 3   Batch: 51   Loss: 0.3640226721763611\n",
      "Epoch: 3   Batch: 61   Loss: 0.12293437123298645\n",
      "Epoch: 3   Batch: 71   Loss: 0.22431214153766632\n",
      "Epoch: 3   Batch: 81   Loss: 0.25243398547172546\n",
      "Epoch: 4   Batch: 1   Loss: 0.09866175800561905\n",
      "Epoch: 4   Batch: 11   Loss: 0.09759601205587387\n",
      "Epoch: 4   Batch: 21   Loss: 0.1839262843132019\n",
      "Epoch: 4   Batch: 31   Loss: 0.1544547826051712\n",
      "Epoch: 4   Batch: 41   Loss: 0.2415333241224289\n",
      "Epoch: 4   Batch: 51   Loss: 0.07779750227928162\n",
      "Epoch: 4   Batch: 61   Loss: 0.2163189947605133\n",
      "Epoch: 4   Batch: 71   Loss: 0.1681838035583496\n",
      "Epoch: 4   Batch: 81   Loss: 0.17570364475250244\n",
      "Epoch: 5   Batch: 1   Loss: 0.10210639238357544\n",
      "Epoch: 5   Batch: 11   Loss: 0.08509790152311325\n",
      "Epoch: 5   Batch: 21   Loss: 0.05669904872775078\n",
      "Epoch: 5   Batch: 31   Loss: 0.05873110890388489\n",
      "Epoch: 5   Batch: 41   Loss: 0.18680326640605927\n",
      "Epoch: 5   Batch: 51   Loss: 0.2500573396682739\n",
      "Epoch: 5   Batch: 61   Loss: 0.21745316684246063\n",
      "Epoch: 5   Batch: 71   Loss: 0.25537604093551636\n",
      "Epoch: 5   Batch: 81   Loss: 0.26700833439826965\n",
      "Training took 21.52784562110901 minutes.\n"
     ]
    }
   ],
   "source": [
    "train_losses = []\n",
    "train_correct = []\n",
    "\n",
    "start_time = time.time()\n",
    "\n",
    "for epoch in range(EPOCHS):\n",
    "\n",
    "    epoch_train_correct = 0\n",
    "    model.train()\n",
    "\n",
    "    for batch, (X_train,y_train) in enumerate(train_data):\n",
    "      X_train,y_train = X_train.to(device).float(), y_train.to(device)\n",
    "      y_pred = model.forward(X_train)\n",
    "      loss = criterion(y_pred,y_train)\n",
    "\n",
    "      predicted = torch.max(y_pred.detach(),1)[1]   # .data oddelí gradient atd od samostatných dat a dá nám jen data, ta jednice v tom maxu znamena dimenze na ktere hleda max(cols nebo rows asi)\n",
    "      batch_correct = (predicted == y_train).sum()\n",
    "      epoch_train_correct += batch_correct\n",
    "\n",
    "      optimizer.zero_grad()\n",
    "      loss.backward() #vypocita gradient pro nase weights atd\n",
    "      optimizer.step() #updatne weights s gradientem\n",
    "\n",
    "      if batch%10 == 0:\n",
    "        print(f\"Epoch: {epoch+1}   Batch: {batch+1}   Loss: {loss.item()}\")\n",
    "\n",
    "\n",
    "\n",
    "\n",
    "    train_losses.append((f\"Trl{epoch+1}\",loss))\n",
    "    train_correct.append((f\"Trc{epoch+1}\",epoch_train_correct))\n",
    "\n",
    "\n",
    "current_time = time.time()\n",
    "total_time = current_time - start_time\n",
    "print(f\"Training took {total_time/60} minutes.\")\n"
   ]
  },
  {
   "cell_type": "code",
   "execution_count": 40,
   "id": "d9448fc4",
   "metadata": {},
   "outputs": [],
   "source": [
    "'''torch.save(model.state_dict(), 'CTscan_class_model_v2.pt')'''"
   ]
  },
  {
   "cell_type": "code",
   "execution_count": 46,
   "id": "14a5a647",
   "metadata": {},
   "outputs": [],
   "source": [
    "test_loader = datasets.ImageFolder(root='Data/test', transform=transforms)"
   ]
  },
  {
   "cell_type": "code",
   "execution_count": 47,
   "id": "29cad78a",
   "metadata": {},
   "outputs": [],
   "source": [
    "test_data = DataLoader(test_loader, batch_size=64, shuffle= True)"
   ]
  },
  {
   "cell_type": "code",
   "execution_count": 48,
   "id": "4b855581",
   "metadata": {},
   "outputs": [],
   "source": [
    "test_correct = 0\n",
    "test_loss = 0"
   ]
  },
  {
   "cell_type": "code",
   "execution_count": 50,
   "id": "0f1096b0",
   "metadata": {},
   "outputs": [],
   "source": [
    "with torch.no_grad():\n",
    "    for batch,(X_test,y_test) in enumerate(test_data):\n",
    "      X_test,y_test = X_test.to(device).float(), y_test.to(device)\n",
    "      y_val = model(X_test)\n",
    "      predicted = torch.max(y_val.detach(),1)[1] #detach udela to ze dostaneme cisty tensor z y_val a torch.max returne tuple dvou tensorů\n",
    "      # The first tensor contains the maximum values. The second tensor contains the indices where the maximum values occur.\n",
    "      test_correct += (predicted == y_test).sum() # ten sum udela to ze to True nebo False pretvori v 1 or 0\n",
    "\n",
    "      loss = criterion(y_val,y_test)\n",
    "      test_loss += loss"
   ]
  },
  {
   "cell_type": "code",
   "execution_count": 51,
   "id": "48e5e385",
   "metadata": {},
   "outputs": [
    {
     "data": {
      "text/plain": [
       "'Test loss: 3.6294302940368652'"
      ]
     },
     "metadata": {},
     "output_type": "display_data"
    },
    {
     "data": {
      "text/plain": [
       "'Test correct: 1209'"
      ]
     },
     "metadata": {},
     "output_type": "display_data"
    }
   ],
   "source": [
    "display(f'Test loss: {test_loss}',\n",
    "        f'Test correct: {test_correct}')"
   ]
  },
  {
   "cell_type": "code",
   "execution_count": 60,
   "id": "e0d7a9f4",
   "metadata": {},
   "outputs": [
    {
     "name": "stdout",
     "output_type": "stream",
     "text": [
      "Test accuracy: 0.9386645962732919\n"
     ]
    }
   ],
   "source": [
    "print('Test accuracy:',1209/1288)"
   ]
  },
  {
   "cell_type": "code",
   "execution_count": 55,
   "id": "560be6d4",
   "metadata": {},
   "outputs": [
    {
     "data": {
      "text/plain": [
       "[('Trc1', tensor(4461, device='cuda:0')),\n",
       " ('Trc2', tensor(4759, device='cuda:0')),\n",
       " ('Trc3', tensor(4843, device='cuda:0')),\n",
       " ('Trc4', tensor(4882, device='cuda:0')),\n",
       " ('Trc5', tensor(4932, device='cuda:0'))]"
      ]
     },
     "execution_count": 55,
     "metadata": {},
     "output_type": "execute_result"
    }
   ],
   "source": [
    "train_correct"
   ]
  },
  {
   "cell_type": "code",
   "execution_count": 58,
   "id": "dd9cab46",
   "metadata": {},
   "outputs": [
    {
     "data": {
      "text/plain": [
       "<matplotlib.legend.Legend at 0x175cb7523d0>"
      ]
     },
     "execution_count": 58,
     "metadata": {},
     "output_type": "execute_result"
    },
    {
     "data": {
      "image/png": "[encoded data removed]",
      "text/plain": [
       "<Figure size 640x480 with 1 Axes>"
      ]
     },
     "metadata": {},
     "output_type": "display_data"
    }
   ],
   "source": [
    "plt.plot([t[1].cpu().numpy()/5144 for t in train_correct], label = \"Training accuracy\")\n",
    "plt.xticks(np.arange(5))\n",
    "plt.title(\"Accuracy at epoch\")\n",
    "plt.legend()"
   ]
  },
  {
   "cell_type": "code",
   "execution_count": null,
   "id": "f74a2294",
   "metadata": {},
   "outputs": [],
   "source": []
  }
 ],
 "metadata": {
  "kernelspec": {
   "display_name": "Python 3 (ipykernel)",
   "language": "python",
   "name": "python3"
  },
  "language_info": {
   "codemirror_mode": {
    "name": "ipython",
    "version": 3
   },
   "file_extension": ".py",
   "mimetype": "text/x-python",
   "name": "python",
   "nbconvert_exporter": "python",
   "pygments_lexer": "ipython3",
   "version": "3.11.5"
  }
 },
 "nbformat": 4,
 "nbformat_minor": 5
}
